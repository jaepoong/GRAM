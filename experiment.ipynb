{
 "cells": [
  {
   "cell_type": "code",
   "execution_count": 6,
   "metadata": {},
   "outputs": [
    {
     "ename": "ValueError",
     "evalue": "module functions cannot set METH_CLASS or METH_STATIC",
     "output_type": "error",
     "traceback": [
      "\u001b[0;31m---------------------------------------------------------------------------\u001b[0m",
      "\u001b[0;31mValueError\u001b[0m                                Traceback (most recent call last)",
      "\u001b[1;32m/Users/seoljaejung/Desktop/GRAM/experiment.ipynb 셀 1\u001b[0m in \u001b[0;36m<cell line: 1>\u001b[0;34m()\u001b[0m\n\u001b[0;32m----> <a href='vscode-notebook-cell:/Users/seoljaejung/Desktop/GRAM/experiment.ipynb#W0sZmlsZQ%3D%3D?line=0'>1</a>\u001b[0m \u001b[39mimport\u001b[39;00m \u001b[39mtorch\u001b[39;00m\n",
      "File \u001b[0;32m/opt/anaconda3/envs/jaepoong/lib/python3.9/site-packages/torch/__init__.py:202\u001b[0m, in \u001b[0;36m<module>\u001b[0;34m\u001b[0m\n\u001b[1;32m    200\u001b[0m     \u001b[39mif\u001b[39;00m USE_GLOBAL_DEPS:\n\u001b[1;32m    201\u001b[0m         _load_global_deps()\n\u001b[0;32m--> 202\u001b[0m     \u001b[39mfrom\u001b[39;00m \u001b[39mtorch\u001b[39;00m\u001b[39m.\u001b[39;00m\u001b[39m_C\u001b[39;00m \u001b[39mimport\u001b[39;00m \u001b[39m*\u001b[39m  \u001b[39m# noqa: F403\u001b[39;00m\n\u001b[1;32m    204\u001b[0m \u001b[39m# Appease the type checker; ordinarily this binding is inserted by the\u001b[39;00m\n\u001b[1;32m    205\u001b[0m \u001b[39m# torch._C module initialization code in C\u001b[39;00m\n\u001b[1;32m    206\u001b[0m \u001b[39mif\u001b[39;00m TYPE_CHECKING:\n",
      "\u001b[0;31mValueError\u001b[0m: module functions cannot set METH_CLASS or METH_STATIC"
     ]
    }
   ],
   "source": [
    "import torch"
   ]
  },
  {
   "cell_type": "code",
   "execution_count": 5,
   "metadata": {},
   "outputs": [],
   "source": [
    "import numpy as np\n",
    "data=np.load(\"../data/cats/fid_files/cats_64.npz\")"
   ]
  },
  {
   "cell_type": "code",
   "execution_count": 23,
   "metadata": {},
   "outputs": [
    {
     "data": {
      "text/plain": [
       "(2048,)"
      ]
     },
     "execution_count": 23,
     "metadata": {},
     "output_type": "execute_result"
    }
   ],
   "source": [
    "data[\"m\"].shape"
   ]
  },
  {
   "cell_type": "code",
   "execution_count": 4,
   "metadata": {},
   "outputs": [
    {
     "data": {
      "text/plain": [
       "tensor([[-1.0000, -1.0000, -1.0000, -1.0000, -1.0000, -1.0000, -1.0000, -1.0000],\n",
       "        [-0.7143, -0.7143, -0.7143, -0.7143, -0.7143, -0.7143, -0.7143, -0.7143],\n",
       "        [-0.4286, -0.4286, -0.4286, -0.4286, -0.4286, -0.4286, -0.4286, -0.4286],\n",
       "        [-0.1429, -0.1429, -0.1429, -0.1429, -0.1429, -0.1429, -0.1429, -0.1429],\n",
       "        [ 0.1429,  0.1429,  0.1429,  0.1429,  0.1429,  0.1429,  0.1429,  0.1429],\n",
       "        [ 0.4286,  0.4286,  0.4286,  0.4286,  0.4286,  0.4286,  0.4286,  0.4286],\n",
       "        [ 0.7143,  0.7143,  0.7143,  0.7143,  0.7143,  0.7143,  0.7143,  0.7143],\n",
       "        [ 1.0000,  1.0000,  1.0000,  1.0000,  1.0000,  1.0000,  1.0000,  1.0000]])"
      ]
     },
     "execution_count": 4,
     "metadata": {},
     "output_type": "execute_result"
    }
   ],
   "source": [
    "import torch\n",
    "x, y = torch.meshgrid(torch.linspace(-1, 1, 8, ),\n",
    "                          torch.linspace(-1, 1, 8))\n",
    "x\n"
   ]
  },
  {
   "cell_type": "code",
   "execution_count": 5,
   "metadata": {},
   "outputs": [
    {
     "data": {
      "text/plain": [
       "tensor([[-1.0000, -0.7143, -0.4286, -0.1429,  0.1429,  0.4286,  0.7143,  1.0000],\n",
       "        [-1.0000, -0.7143, -0.4286, -0.1429,  0.1429,  0.4286,  0.7143,  1.0000],\n",
       "        [-1.0000, -0.7143, -0.4286, -0.1429,  0.1429,  0.4286,  0.7143,  1.0000],\n",
       "        [-1.0000, -0.7143, -0.4286, -0.1429,  0.1429,  0.4286,  0.7143,  1.0000],\n",
       "        [-1.0000, -0.7143, -0.4286, -0.1429,  0.1429,  0.4286,  0.7143,  1.0000],\n",
       "        [-1.0000, -0.7143, -0.4286, -0.1429,  0.1429,  0.4286,  0.7143,  1.0000],\n",
       "        [-1.0000, -0.7143, -0.4286, -0.1429,  0.1429,  0.4286,  0.7143,  1.0000],\n",
       "        [-1.0000, -0.7143, -0.4286, -0.1429,  0.1429,  0.4286,  0.7143,  1.0000]])"
      ]
     },
     "execution_count": 5,
     "metadata": {},
     "output_type": "execute_result"
    }
   ],
   "source": [
    "y"
   ]
  },
  {
   "cell_type": "code",
   "execution_count": 16,
   "metadata": {},
   "outputs": [
    {
     "data": {
      "text/plain": [
       "<matplotlib.image.AxesImage at 0x7fdc19bf3820>"
      ]
     },
     "execution_count": 16,
     "metadata": {},
     "output_type": "execute_result"
    },
    {
     "data": {
      "image/png": "[encoded data removed]",
      "text/plain": [
       "<Figure size 432x288 with 1 Axes>"
      ]
     },
     "metadata": {
      "needs_background": "light"
     },
     "output_type": "display_data"
    }
   ],
   "source": [
    "import matplotlib.pyplot as plt\n",
    "plt.imshow(x.T)"
   ]
  },
  {
   "cell_type": "code",
   "execution_count": 14,
   "metadata": {},
   "outputs": [
    {
     "data": {
      "text/plain": [
       "<matplotlib.image.AxesImage at 0x7fdc19c7a850>"
      ]
     },
     "execution_count": 14,
     "metadata": {},
     "output_type": "execute_result"
    },
    {
     "data": {
      "image/png": "[encoded data removed]",
      "text/plain": [
       "<Figure size 432x288 with 1 Axes>"
      ]
     },
     "metadata": {
      "needs_background": "light"
     },
     "output_type": "display_data"
    }
   ],
   "source": [
    "plt.imshow(y.T)"
   ]
  },
  {
   "cell_type": "code",
   "execution_count": 26,
   "metadata": {},
   "outputs": [
    {
     "data": {
      "text/plain": [
       "tensor([[[-0.2506, -0.2506, -0.9351],\n",
       "         [-0.2545, -0.1818, -0.9498],\n",
       "         [-0.2572, -0.1102, -0.9600],\n",
       "         [-0.2586, -0.0369, -0.9653],\n",
       "         [-0.2586,  0.0369, -0.9653],\n",
       "         [-0.2572,  0.1102, -0.9600],\n",
       "         [-0.2545,  0.1818, -0.9498],\n",
       "         [-0.2506,  0.2506, -0.9351]],\n",
       "\n",
       "        [[-0.1818, -0.2545, -0.9498],\n",
       "         [-0.1847, -0.1847, -0.9653],\n",
       "         [-0.1868, -0.1121, -0.9760],\n",
       "         [-0.1878, -0.0376, -0.9815],\n",
       "         [-0.1878,  0.0376, -0.9815],\n",
       "         [-0.1868,  0.1121, -0.9760],\n",
       "         [-0.1847,  0.1847, -0.9653],\n",
       "         [-0.1818,  0.2545, -0.9498]],\n",
       "\n",
       "        [[-0.1102, -0.2572, -0.9600],\n",
       "         [-0.1121, -0.1868, -0.9760],\n",
       "         [-0.1134, -0.1134, -0.9871],\n",
       "         [-0.1140, -0.0380, -0.9928],\n",
       "         [-0.1140,  0.0380, -0.9928],\n",
       "         [-0.1134,  0.1134, -0.9871],\n",
       "         [-0.1121,  0.1868, -0.9760],\n",
       "         [-0.1102,  0.2572, -0.9600]],\n",
       "\n",
       "        [[-0.0369, -0.2586, -0.9653],\n",
       "         [-0.0376, -0.1878, -0.9815],\n",
       "         [-0.0380, -0.1140, -0.9928],\n",
       "         [-0.0382, -0.0382, -0.9985],\n",
       "         [-0.0382,  0.0382, -0.9985],\n",
       "         [-0.0380,  0.1140, -0.9928],\n",
       "         [-0.0376,  0.1878, -0.9815],\n",
       "         [-0.0369,  0.2586, -0.9653]],\n",
       "\n",
       "        [[ 0.0369, -0.2586, -0.9653],\n",
       "         [ 0.0376, -0.1878, -0.9815],\n",
       "         [ 0.0380, -0.1140, -0.9928],\n",
       "         [ 0.0382, -0.0382, -0.9985],\n",
       "         [ 0.0382,  0.0382, -0.9985],\n",
       "         [ 0.0380,  0.1140, -0.9928],\n",
       "         [ 0.0376,  0.1878, -0.9815],\n",
       "         [ 0.0369,  0.2586, -0.9653]],\n",
       "\n",
       "        [[ 0.1102, -0.2572, -0.9600],\n",
       "         [ 0.1121, -0.1868, -0.9760],\n",
       "         [ 0.1134, -0.1134, -0.9871],\n",
       "         [ 0.1140, -0.0380, -0.9928],\n",
       "         [ 0.1140,  0.0380, -0.9928],\n",
       "         [ 0.1134,  0.1134, -0.9871],\n",
       "         [ 0.1121,  0.1868, -0.9760],\n",
       "         [ 0.1102,  0.2572, -0.9600]],\n",
       "\n",
       "        [[ 0.1818, -0.2545, -0.9498],\n",
       "         [ 0.1847, -0.1847, -0.9653],\n",
       "         [ 0.1868, -0.1121, -0.9760],\n",
       "         [ 0.1878, -0.0376, -0.9815],\n",
       "         [ 0.1878,  0.0376, -0.9815],\n",
       "         [ 0.1868,  0.1121, -0.9760],\n",
       "         [ 0.1847,  0.1847, -0.9653],\n",
       "         [ 0.1818,  0.2545, -0.9498]],\n",
       "\n",
       "        [[ 0.2506, -0.2506, -0.9351],\n",
       "         [ 0.2545, -0.1818, -0.9498],\n",
       "         [ 0.2572, -0.1102, -0.9600],\n",
       "         [ 0.2586, -0.0369, -0.9653],\n",
       "         [ 0.2586,  0.0369, -0.9653],\n",
       "         [ 0.2572,  0.1102, -0.9600],\n",
       "         [ 0.2545,  0.1818, -0.9498],\n",
       "         [ 0.2506,  0.2506, -0.9351]]])"
      ]
     },
     "execution_count": 26,
     "metadata": {},
     "output_type": "execute_result"
    }
   ],
   "source": [
    "import math\n",
    "import numpy as np\n",
    "z=-torch.ones_like(x)/np.tan((2 * math.pi * 30 / 360)/2)\n",
    "\n",
    "def normalize_vecs(vectors: torch.Tensor) -> torch.Tensor:\n",
    "    \"\"\"\n",
    "    Normalize vector lengths.\n",
    "    \"\"\"\n",
    "    return vectors / (torch.norm(vectors, dim=-1, keepdim=True))\n",
    "\n",
    "normalize_vecs(torch.stack([x, y, z], -1))"
   ]
  },
  {
   "cell_type": "code",
   "execution_count": 25,
   "metadata": {},
   "outputs": [
    {
     "data": {
      "text/plain": [
       "tensor([[[-1.0000, -1.0000, -3.7321],\n",
       "         [-1.0000, -0.7143, -3.7321],\n",
       "         [-1.0000, -0.4286, -3.7321],\n",
       "         [-1.0000, -0.1429, -3.7321],\n",
       "         [-1.0000,  0.1429, -3.7321],\n",
       "         [-1.0000,  0.4286, -3.7321],\n",
       "         [-1.0000,  0.7143, -3.7321],\n",
       "         [-1.0000,  1.0000, -3.7321]],\n",
       "\n",
       "        [[-0.7143, -1.0000, -3.7321],\n",
       "         [-0.7143, -0.7143, -3.7321],\n",
       "         [-0.7143, -0.4286, -3.7321],\n",
       "         [-0.7143, -0.1429, -3.7321],\n",
       "         [-0.7143,  0.1429, -3.7321],\n",
       "         [-0.7143,  0.4286, -3.7321],\n",
       "         [-0.7143,  0.7143, -3.7321],\n",
       "         [-0.7143,  1.0000, -3.7321]],\n",
       "\n",
       "        [[-0.4286, -1.0000, -3.7321],\n",
       "         [-0.4286, -0.7143, -3.7321],\n",
       "         [-0.4286, -0.4286, -3.7321],\n",
       "         [-0.4286, -0.1429, -3.7321],\n",
       "         [-0.4286,  0.1429, -3.7321],\n",
       "         [-0.4286,  0.4286, -3.7321],\n",
       "         [-0.4286,  0.7143, -3.7321],\n",
       "         [-0.4286,  1.0000, -3.7321]],\n",
       "\n",
       "        [[-0.1429, -1.0000, -3.7321],\n",
       "         [-0.1429, -0.7143, -3.7321],\n",
       "         [-0.1429, -0.4286, -3.7321],\n",
       "         [-0.1429, -0.1429, -3.7321],\n",
       "         [-0.1429,  0.1429, -3.7321],\n",
       "         [-0.1429,  0.4286, -3.7321],\n",
       "         [-0.1429,  0.7143, -3.7321],\n",
       "         [-0.1429,  1.0000, -3.7321]],\n",
       "\n",
       "        [[ 0.1429, -1.0000, -3.7321],\n",
       "         [ 0.1429, -0.7143, -3.7321],\n",
       "         [ 0.1429, -0.4286, -3.7321],\n",
       "         [ 0.1429, -0.1429, -3.7321],\n",
       "         [ 0.1429,  0.1429, -3.7321],\n",
       "         [ 0.1429,  0.4286, -3.7321],\n",
       "         [ 0.1429,  0.7143, -3.7321],\n",
       "         [ 0.1429,  1.0000, -3.7321]],\n",
       "\n",
       "        [[ 0.4286, -1.0000, -3.7321],\n",
       "         [ 0.4286, -0.7143, -3.7321],\n",
       "         [ 0.4286, -0.4286, -3.7321],\n",
       "         [ 0.4286, -0.1429, -3.7321],\n",
       "         [ 0.4286,  0.1429, -3.7321],\n",
       "         [ 0.4286,  0.4286, -3.7321],\n",
       "         [ 0.4286,  0.7143, -3.7321],\n",
       "         [ 0.4286,  1.0000, -3.7321]],\n",
       "\n",
       "        [[ 0.7143, -1.0000, -3.7321],\n",
       "         [ 0.7143, -0.7143, -3.7321],\n",
       "         [ 0.7143, -0.4286, -3.7321],\n",
       "         [ 0.7143, -0.1429, -3.7321],\n",
       "         [ 0.7143,  0.1429, -3.7321],\n",
       "         [ 0.7143,  0.4286, -3.7321],\n",
       "         [ 0.7143,  0.7143, -3.7321],\n",
       "         [ 0.7143,  1.0000, -3.7321]],\n",
       "\n",
       "        [[ 1.0000, -1.0000, -3.7321],\n",
       "         [ 1.0000, -0.7143, -3.7321],\n",
       "         [ 1.0000, -0.4286, -3.7321],\n",
       "         [ 1.0000, -0.1429, -3.7321],\n",
       "         [ 1.0000,  0.1429, -3.7321],\n",
       "         [ 1.0000,  0.4286, -3.7321],\n",
       "         [ 1.0000,  0.7143, -3.7321],\n",
       "         [ 1.0000,  1.0000, -3.7321]]])"
      ]
     },
     "execution_count": 25,
     "metadata": {},
     "output_type": "execute_result"
    }
   ],
   "source": [
    "torch.stack([x,y,z],-1)"
   ]
  },
  {
   "cell_type": "code",
   "execution_count": 39,
   "metadata": {},
   "outputs": [
    {
     "data": {
      "text/plain": [
       "tensor([[[2],\n",
       "         [1],\n",
       "         [3],\n",
       "         [0],\n",
       "         [3],\n",
       "         [1],\n",
       "         [3],\n",
       "         [0]],\n",
       "\n",
       "        [[1],\n",
       "         [0],\n",
       "         [2],\n",
       "         [3],\n",
       "         [1],\n",
       "         [0],\n",
       "         [1],\n",
       "         [2]],\n",
       "\n",
       "        [[2],\n",
       "         [1],\n",
       "         [2],\n",
       "         [0],\n",
       "         [0],\n",
       "         [2],\n",
       "         [0],\n",
       "         [2]],\n",
       "\n",
       "        [[3],\n",
       "         [0],\n",
       "         [3],\n",
       "         [0],\n",
       "         [0],\n",
       "         [3],\n",
       "         [0],\n",
       "         [0]],\n",
       "\n",
       "        [[1],\n",
       "         [3],\n",
       "         [2],\n",
       "         [0],\n",
       "         [3],\n",
       "         [1],\n",
       "         [0],\n",
       "         [1]],\n",
       "\n",
       "        [[1],\n",
       "         [3],\n",
       "         [3],\n",
       "         [0],\n",
       "         [2],\n",
       "         [3],\n",
       "         [2],\n",
       "         [1]],\n",
       "\n",
       "        [[2],\n",
       "         [1],\n",
       "         [2],\n",
       "         [1],\n",
       "         [3],\n",
       "         [1],\n",
       "         [0],\n",
       "         [1]],\n",
       "\n",
       "        [[0],\n",
       "         [0],\n",
       "         [3],\n",
       "         [1],\n",
       "         [2],\n",
       "         [1],\n",
       "         [3],\n",
       "         [0]]])"
      ]
     },
     "execution_count": 39,
     "metadata": {},
     "output_type": "execute_result"
    }
   ],
   "source": [
    "x\n",
    "valid=x.new_empty(x.shape + (4,)).normal_()\n",
    "ind = valid.max(-1, keepdim=True)[1]\n",
    "ind"
   ]
  },
  {
   "cell_type": "code",
   "execution_count": 40,
   "metadata": {},
   "outputs": [
    {
     "data": {
      "text/plain": [
       "tensor([[[-0.2447, -0.1173,  0.1584, -0.1600],\n",
       "         [ 0.1862,  1.9551,  0.1481, -0.4788],\n",
       "         [-1.3724,  0.2085, -1.4820,  1.1622],\n",
       "         [ 1.0736, -0.8740, -0.5200, -0.7871],\n",
       "         [-2.2516,  1.1573, -0.5782,  1.2981],\n",
       "         [-0.4302,  1.9370, -1.6892,  1.6644],\n",
       "         [-0.7176,  0.0867,  0.4100,  1.3386],\n",
       "         [ 0.2985, -0.0836, -0.9049, -0.5336]],\n",
       "\n",
       "        [[ 1.7648,  1.8589, -1.1262, -1.5823],\n",
       "         [-0.0770, -1.0479, -0.6213, -0.8038],\n",
       "         [-0.1461,  0.2232,  0.3118, -1.4564],\n",
       "         [-0.3161,  1.0731,  0.4276,  1.8604],\n",
       "         [-2.0494,  0.1484, -0.7886, -1.7644],\n",
       "         [ 1.7135, -3.4377,  0.1346,  1.5132],\n",
       "         [ 0.5931,  1.2515, -0.3256, -0.1642],\n",
       "         [-0.0119, -2.1389,  1.0927, -0.6142]],\n",
       "\n",
       "        [[ 0.1950, -1.8419,  0.6646,  0.3407],\n",
       "         [-0.6397,  2.1512, -1.2290, -1.7316],\n",
       "         [ 0.4488, -0.0959,  0.6553,  0.4596],\n",
       "         [ 0.0864, -0.0566, -1.9951, -0.6907],\n",
       "         [ 1.7080,  0.4873, -0.6541, -2.2615],\n",
       "         [-0.6975, -0.3631,  1.1035, -1.2544],\n",
       "         [ 0.3553,  0.2462, -0.7233, -0.6078],\n",
       "         [-0.4314,  0.6178,  0.8718,  0.5871]],\n",
       "\n",
       "        [[ 1.3481, -0.9345,  1.1214,  2.0203],\n",
       "         [ 0.3575, -0.9077,  0.1149,  0.2089],\n",
       "         [-0.6946, -0.4944, -0.5637,  0.5289],\n",
       "         [ 0.5991, -0.2494, -1.2448, -0.9212],\n",
       "         [ 0.3877, -0.2259, -0.5649,  0.0781],\n",
       "         [ 0.1461, -0.6001, -0.5932,  0.9655],\n",
       "         [ 1.1237, -0.0469, -0.5380,  0.1650],\n",
       "         [ 1.2236, -0.0510, -0.0182, -0.3858]],\n",
       "\n",
       "        [[ 0.5311,  1.9008, -0.3769,  0.8154],\n",
       "         [ 0.0771, -0.9996,  0.7949,  0.8252],\n",
       "         [-0.3730, -0.3113,  0.2902, -0.9786],\n",
       "         [ 0.6672, -0.5563, -0.3206,  0.1097],\n",
       "         [-0.9538, -0.9187, -0.3150,  0.2185],\n",
       "         [ 1.4997,  1.6334,  0.0396,  0.3112],\n",
       "         [ 0.9494, -0.1404,  0.2694,  0.4703],\n",
       "         [-0.7916,  1.4363, -0.5204, -0.0413]],\n",
       "\n",
       "        [[-2.6622,  1.1468, -0.1091,  0.7082],\n",
       "         [-1.6207, -0.2942, -0.7729,  0.0842],\n",
       "         [ 1.6000, -0.6093, -1.4246,  2.5111],\n",
       "         [ 1.7396,  1.0198,  0.6194,  0.8675],\n",
       "         [ 0.3384, -0.7618,  1.9794,  1.4636],\n",
       "         [-1.1071, -0.7834,  0.0461,  0.8303],\n",
       "         [-0.0582, -0.6800,  1.7561,  1.1684],\n",
       "         [-0.8192,  2.0004,  0.4996,  0.6261]],\n",
       "\n",
       "        [[-1.3628, -0.5502,  1.6488,  1.0223],\n",
       "         [ 1.2459,  1.4440,  0.8586,  0.1727],\n",
       "         [-1.0442,  0.0188,  2.2087,  1.2124],\n",
       "         [-0.1122,  0.9882, -1.8071, -1.1478],\n",
       "         [-0.7111, -0.5963,  1.7235,  2.3478],\n",
       "         [ 0.8131,  2.0079, -0.0789,  0.0096],\n",
       "         [ 0.7472,  0.0124,  0.2945, -1.2306],\n",
       "         [ 1.1280,  1.6736,  0.0818, -0.3877]],\n",
       "\n",
       "        [[ 1.7931, -0.6040,  1.2563, -0.6122],\n",
       "         [ 1.9060,  0.1966, -0.4618,  0.3603],\n",
       "         [ 0.7907,  0.3047, -2.5864,  0.9862],\n",
       "         [-1.5408,  1.8368, -0.6549, -0.3411],\n",
       "         [-0.4276, -0.8390,  0.0588, -0.2710],\n",
       "         [-0.5535,  1.9545, -0.6378, -0.9351],\n",
       "         [-1.5514,  0.5475,  0.4802,  1.4772],\n",
       "         [ 1.6300,  1.0855,  0.0050, -0.0936]]])"
      ]
     },
     "execution_count": 40,
     "metadata": {},
     "output_type": "execute_result"
    }
   ],
   "source": [
    "valid"
   ]
  },
  {
   "cell_type": "code",
   "execution_count": null,
   "metadata": {},
   "outputs": [],
   "source": []
  }
 ],
 "metadata": {
  "kernelspec": {
   "display_name": "Python 3.9.12 ('jaepoong')",
   "language": "python",
   "name": "python3"
  },
  "language_info": {
   "codemirror_mode": {
    "name": "ipython",
    "version": 3
   },
   "file_extension": ".py",
   "mimetype": "text/x-python",
   "name": "python",
   "nbconvert_exporter": "python",
   "pygments_lexer": "ipython3",
   "version": "3.9.12"
  },
  "orig_nbformat": 4,
  "vscode": {
   "interpreter": {
    "hash": "f88c50d959b1748929a19d038c3f73c8cba63c7f66d12bcb1b51825bde3aa7df"
   }
  }
 },
 "nbformat": 4,
 "nbformat_minor": 2
}
